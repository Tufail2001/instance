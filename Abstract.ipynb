{
 "cells": [
  {
   "cell_type": "code",
   "execution_count": null,
   "id": "50edf070",
   "metadata": {},
   "outputs": [],
   "source": [
    "operator = input(\"Enter an operator (+ - * /): \")\n",
    "num1 = float(input(\"Enter 1st Num: \"))\n",
    "num2 = float(input(\"Enter 2nd Num: \"))\n",
    "\n",
    "if operator == \"+\":\n",
    "    result = num1 + num2\n",
    "    print(result)\n",
    "elif operator == \"-\":\n",
    "    result = num1 - num2\n",
    "    print(result)\n",
    "elif operator == \"*\":\n",
    "    result = num1 * num2\n",
    "    print(result)\n",
    "elif operator == \"/\":\n",
    "    result = num1 / num2\n",
    "    print(result)"
   ]
  },
  {
   "cell_type": "code",
   "execution_count": 1,
   "id": "4efc5140",
   "metadata": {},
   "outputs": [],
   "source": [
    "## I/O input-output (in a file )"
   ]
  },
  {
   "cell_type": "code",
   "execution_count": 2,
   "id": "00c160a8",
   "metadata": {},
   "outputs": [],
   "source": [
    "# create a file if it is not present"
   ]
  },
  {
   "cell_type": "code",
   "execution_count": 7,
   "id": "3982ce0d",
   "metadata": {},
   "outputs": [],
   "source": [
    "f = open('sample.txt', 'w')\n",
    "f.write(\"Pakistan Zindabad\")\n",
    "f.close()"
   ]
  },
  {
   "cell_type": "code",
   "execution_count": 10,
   "id": "95444e8a",
   "metadata": {},
   "outputs": [],
   "source": [
    "f = open('sample.txt', 'w')\n",
    "f.write('Hello World')\n",
    "f.write('/n Ramzan 1')\n",
    "f.close()"
   ]
  },
  {
   "cell_type": "code",
   "execution_count": 11,
   "id": "6769027f",
   "metadata": {},
   "outputs": [],
   "source": [
    "# a => append mode appends not overwrites\n",
    "f = open('sample.txt', 'a')\n",
    "f.write('\\n I am fine')\n",
    "f.close()"
   ]
  },
  {
   "cell_type": "code",
   "execution_count": 20,
   "id": "137c9fa1",
   "metadata": {},
   "outputs": [],
   "source": [
    "# wirtes many lines\n",
    "L = ['Hi',' ','How ', 'are',' ', 'You',' ', 'I am fine',' ', 'what about you']\n",
    "f = open('sample.txt', 'w')\n",
    "f.writelines(L)\n",
    "f.close()"
   ]
  },
  {
   "cell_type": "code",
   "execution_count": 21,
   "id": "5d296a2e",
   "metadata": {},
   "outputs": [
    {
     "data": {
      "text/plain": [
       "'Hi How are You I am fine what about you'"
      ]
     },
     "execution_count": 21,
     "metadata": {},
     "output_type": "execute_result"
    }
   ],
   "source": [
    "f= open('sample.txt', 'r')\n",
    "f.read()"
   ]
  },
  {
   "cell_type": "code",
   "execution_count": 22,
   "id": "177279b5",
   "metadata": {},
   "outputs": [
    {
     "name": "stdout",
     "output_type": "stream",
     "text": [
      "['Hi How are You I am fine what about you']\n"
     ]
    }
   ],
   "source": [
    "f= open('sample.txt', 'r')\n",
    "s =f.readlines()\n",
    "print(s)\n",
    "f.close()"
   ]
  },
  {
   "cell_type": "code",
   "execution_count": 25,
   "id": "751c5f45",
   "metadata": {},
   "outputs": [
    {
     "name": "stdout",
     "output_type": "stream",
     "text": [
      "Hi How are You I am fine what about you\n"
     ]
    }
   ],
   "source": [
    "f = open('sample.txt', 'r')\n",
    "p = f.readline()\n",
    "print(p)\n",
    "f.close()"
   ]
  },
  {
   "cell_type": "code",
   "execution_count": null,
   "id": "95d8cfc6",
   "metadata": {},
   "outputs": [],
   "source": []
  }
 ],
 "metadata": {
  "kernelspec": {
   "display_name": "Python 3 (ipykernel)",
   "language": "python",
   "name": "python3"
  },
  "language_info": {
   "codemirror_mode": {
    "name": "ipython",
    "version": 3
   },
   "file_extension": ".py",
   "mimetype": "text/x-python",
   "name": "python",
   "nbconvert_exporter": "python",
   "pygments_lexer": "ipython3",
   "version": "3.9.13"
  }
 },
 "nbformat": 4,
 "nbformat_minor": 5
}
